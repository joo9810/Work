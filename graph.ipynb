{
 "cells": [
  {
   "cell_type": "code",
   "execution_count": 27,
   "id": "9de767db",
   "metadata": {},
   "outputs": [],
   "source": [
    "import random\n",
    "from datetime import datetime, timedelta\n",
    "import networkx as nx\n",
    "from pyvis.network import Network\n",
    "from collections import deque"
   ]
  },
  {
   "cell_type": "code",
   "execution_count": 28,
   "id": "296a81a6",
   "metadata": {},
   "outputs": [],
   "source": [
    "transactions = []\n",
    "names = [\n",
    "    '신소율', '홍수아', '홍지호', '신민지', '신도윤', '한민준', '안현우', '최하은', '권현준', '홍지은',\n",
    "    '윤지원', '김태윤', '이주원', '박서준', '최예은', '강지호', '배수아', '정하늘', '오유진', '서민재',\n",
    "    '장하준', '민서연', '김다은', '송지후', '이하린', '윤지우', '한지호', '최다은', '정민준', '서지우'\n",
    "]\n",
    "\n",
    "start_time = datetime(2024, 1, 1, 9, 0, 0)\n",
    "\n",
    "for _ in range(30):\n",
    "    sender = random.choice(names)\n",
    "    receiver = random.choice(names)\n",
    "\n",
    "    # 출금인과 송금인이 같으면 재선택\n",
    "    while sender == receiver:\n",
    "        receiver = random.choice(names)\n",
    "    \n",
    "    amount = random.randint(10000, 5000000)\n",
    "    time_delta = timedelta(minutes=random.randint(0, 60*24*30))\n",
    "    transaction_time = (start_time + time_delta).strftime('%m-%d %H:%M')\n",
    "\n",
    "    transactions.append((sender, receiver, amount, transaction_time))"
   ]
  },
  {
   "cell_type": "code",
   "execution_count": 29,
   "id": "ed7dec07",
   "metadata": {},
   "outputs": [
    {
     "data": {
      "text/plain": [
       "[('윤지우', '김다은', 4784746, '01-10 06:20'),\n",
       " ('오유진', '배수아', 124114, '01-11 01:20'),\n",
       " ('신민지', '신소율', 3572388, '01-28 07:07'),\n",
       " ('이주원', '홍수아', 1408012, '01-15 03:51'),\n",
       " ('배수아', '정민준', 698280, '01-08 02:10'),\n",
       " ('신도윤', '박서준', 1649041, '01-18 09:50'),\n",
       " ('최하은', '한지호', 4726438, '01-23 18:44'),\n",
       " ('최하은', '권현준', 4596967, '01-29 16:32'),\n",
       " ('신소율', '한지호', 638871, '01-07 18:53'),\n",
       " ('홍수아', '신도윤', 1520896, '01-29 14:52'),\n",
       " ('권현준', '민서연', 743196, '01-21 20:15'),\n",
       " ('신도윤', '윤지우', 559110, '01-28 23:05'),\n",
       " ('신소율', '정민준', 922636, '01-16 13:34'),\n",
       " ('강지호', '안현우', 2308162, '01-08 07:27'),\n",
       " ('신민지', '정하늘', 4903593, '01-18 05:48'),\n",
       " ('서지우', '홍수아', 883097, '01-09 12:48'),\n",
       " ('안현우', '이주원', 3728118, '01-04 00:19'),\n",
       " ('신소율', '권현준', 4117956, '01-07 04:56'),\n",
       " ('서민재', '윤지원', 3326623, '01-08 19:26'),\n",
       " ('홍지은', '오유진', 2823372, '01-12 16:08'),\n",
       " ('홍지은', '최하은', 2822218, '01-17 09:46'),\n",
       " ('최다은', '신민지', 1341119, '01-03 04:27'),\n",
       " ('최다은', '서지우', 3040211, '01-24 07:16'),\n",
       " ('안현우', '정민준', 604983, '01-12 05:20'),\n",
       " ('강지호', '박서준', 450366, '01-19 01:58'),\n",
       " ('최예은', '장하준', 224442, '01-26 23:28'),\n",
       " ('송지후', '최예은', 3128937, '01-03 02:14'),\n",
       " ('김다은', '홍지호', 179238, '01-20 10:40'),\n",
       " ('윤지원', '배수아', 1186034, '01-16 20:45'),\n",
       " ('한민준', '배수아', 2490636, '01-04 09:59')]"
      ]
     },
     "execution_count": 29,
     "metadata": {},
     "output_type": "execute_result"
    }
   ],
   "source": [
    "transactions"
   ]
  },
  {
   "cell_type": "code",
   "execution_count": 30,
   "id": "4a616579",
   "metadata": {},
   "outputs": [],
   "source": [
    "# 전체 그래프 그리기\n",
    "net = Network(height='800px', width='100%', directed=True)\n",
    "\n",
    "for sender, receiver, amount, time in transactions:\n",
    "    net.add_node(sender, label=sender)\n",
    "    net.add_node(receiver, label=receiver)\n",
    "    net.add_edge(sender, receiver, title=f\"{amount}원\\n{time}\", value=amount)\n",
    "\n",
    "net.save_graph('full_graph.html')"
   ]
  },
  {
   "cell_type": "code",
   "execution_count": 52,
   "id": "df61f089",
   "metadata": {},
   "outputs": [
    {
     "data": {
      "text/plain": [
       "'graph.html'"
      ]
     },
     "execution_count": 52,
     "metadata": {},
     "output_type": "execute_result"
    }
   ],
   "source": [
    "# 부분 그래프 그리기\n",
    "G = nx.DiGraph()\n",
    "for sender, receiver, amount, time in transactions:\n",
    "    G.add_edge(sender, receiver, amount=amount, time=time)\n",
    "\n",
    "# BFS (너비 우선 탐색)\n",
    "def find_edges(G, start_node, max_depth):\n",
    "    visited = set()\n",
    "    visited.add(start_node) # 시작 노드 방문 추가\n",
    "    queue = deque()\n",
    "    queue.append((start_node, 0))\n",
    "    result_edges = set()\n",
    "\n",
    "    while queue:\n",
    "        node, depth = queue.popleft()\n",
    "        if depth >= max_depth:\n",
    "            continue\n",
    "        # 출금 (내가 돈을 보낸 사람)\n",
    "        for neighbor in G.successors(node): \n",
    "            result_edges.add((node, neighbor))\n",
    "            if neighbor not in visited:\n",
    "                visited.add(neighbor)\n",
    "                queue.append((neighbor, depth+1))\n",
    "        # 입금 (나에게 돈을 보낸 사람)\n",
    "        for neighbor in G.predecessors(node):\n",
    "            result_edges.add((neighbor, node))\n",
    "            if neighbor not in visited:\n",
    "                visited.add(neighbor)\n",
    "                queue.append((neighbor, depth+1))\n",
    "    return list(result_edges)\n",
    "    \n",
    "start_node = '최예은'\n",
    "max_depth = 3\n",
    "sub_edges = find_edges(G, start_node, max_depth)\n",
    "\n",
    "# pyvis 시각화\n",
    "net = Network(height='800px', width='100%', directed=True)\n",
    "added_nodes = set()\n",
    "for sender, receiver in sub_edges:\n",
    "    for node in (sender, receiver):\n",
    "        if node not in added_nodes:\n",
    "            net.add_node(node, lable=node)\n",
    "            added_nodes.add(node)\n",
    "    edge_data = G.get_edge_data(sender, receiver)\n",
    "    if edge_data: # edge_data가 있으면\n",
    "        net.add_edge(sender, receiver, title=f\"{edge_data['amount']}원\\n{edge_data['time']}\", value=edge_data['amount'])\n",
    "    else:\n",
    "        # edge_data가 없을 수도 있으므로 예외 처리\n",
    "        net.add_edge(sender, receiver)\n",
    "\n",
    "# 중심 노드 강조\n",
    "net.get_node(start_node)['color'] = 'red'\n",
    "\n",
    "# 저장\n",
    "output_path = 'graph.html'\n",
    "net.save_graph(output_path)\n",
    "output_path"
   ]
  }
 ],
 "metadata": {
  "kernelspec": {
   "display_name": "base",
   "language": "python",
   "name": "python3"
  },
  "language_info": {
   "codemirror_mode": {
    "name": "ipython",
    "version": 3
   },
   "file_extension": ".py",
   "mimetype": "text/x-python",
   "name": "python",
   "nbconvert_exporter": "python",
   "pygments_lexer": "ipython3",
   "version": "3.12.3"
  }
 },
 "nbformat": 4,
 "nbformat_minor": 5
}

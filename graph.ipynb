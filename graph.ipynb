{
 "cells": [
  {
   "cell_type": "code",
   "execution_count": 63,
   "id": "9de767db",
   "metadata": {},
   "outputs": [],
   "source": [
    "import random\n",
    "from datetime import datetime, timedelta\n",
    "import networkx as nx\n",
    "from pyvis.network import Network\n",
    "from collections import deque\n",
    "import community"
   ]
  },
  {
   "cell_type": "markdown",
   "id": "cf7a431b",
   "metadata": {},
   "source": [
    "### 예시 데이터 만들기"
   ]
  },
  {
   "cell_type": "code",
   "execution_count": 76,
   "id": "296a81a6",
   "metadata": {},
   "outputs": [],
   "source": [
    "transactions = []\n",
    "names = [\n",
    "    '신소율', '홍수아', '홍지호', '신민지', '신도윤', '한민준', '안현우', '최하은', '권현준', '홍지은',\n",
    "    '윤지원', '김태윤', '이주원', '박서준', '최예은', '강지호', '배수아', '정하늘', '오유진', '서민재',\n",
    "    '장하준', '민서연', '김다은', '송지후', '이하린', '윤지우', '한지호', '최다은', '정민준', '서지우'\n",
    "]\n",
    "\n",
    "start_time = datetime(2024, 1, 1, 9, 0, 0)\n",
    "\n",
    "for _ in range(100):\n",
    "    sender = random.choice(names)\n",
    "    receiver = random.choice(names)\n",
    "\n",
    "    # 출금인과 송금인이 같으면 재선택\n",
    "    while sender == receiver:\n",
    "        receiver = random.choice(names)\n",
    "    \n",
    "    amount = random.randint(10000, 5000000)\n",
    "    time_delta = timedelta(minutes=random.randint(0, 60*24*30))\n",
    "    transaction_time = (start_time + time_delta).strftime('%m-%d %H:%M')\n",
    "\n",
    "    transactions.append((sender, receiver, amount, transaction_time))"
   ]
  },
  {
   "cell_type": "code",
   "execution_count": 77,
   "id": "ed7dec07",
   "metadata": {},
   "outputs": [
    {
     "data": {
      "text/plain": [
       "[('안현우', '민서연', 3185047, '01-24 13:16'),\n",
       " ('한민준', '윤지우', 1794250, '01-13 02:28'),\n",
       " ('최예은', '권현준', 4241976, '01-12 13:22'),\n",
       " ('홍수아', '민서연', 993110, '01-03 04:37'),\n",
       " ('민서연', '한지호', 3329964, '01-05 09:10'),\n",
       " ('이주원', '박서준', 4103683, '01-09 10:41'),\n",
       " ('이주원', '홍지은', 3851091, '01-03 08:19'),\n",
       " ('김태윤', '최다은', 4009586, '01-11 22:52'),\n",
       " ('오유진', '최다은', 1042404, '01-18 04:31'),\n",
       " ('최하은', '한지호', 2913770, '01-19 21:50'),\n",
       " ('최하은', '홍수아', 1682278, '01-16 16:35'),\n",
       " ('한민준', '윤지우', 1451364, '01-04 14:14'),\n",
       " ('신소율', '안현우', 3540749, '01-09 14:57'),\n",
       " ('김태윤', '홍지은', 2479308, '01-08 02:27'),\n",
       " ('이주원', '송지후', 3185166, '01-05 09:05'),\n",
       " ('김다은', '최예은', 4149519, '01-20 12:37'),\n",
       " ('박서준', '윤지원', 2472899, '01-07 14:36'),\n",
       " ('김태윤', '서민재', 809578, '01-12 21:30'),\n",
       " ('신소율', '오유진', 4158315, '01-16 13:06'),\n",
       " ('김태윤', '신소율', 3630356, '01-23 00:03'),\n",
       " ('신도윤', '송지후', 4955042, '01-25 21:42'),\n",
       " ('최예은', '서민재', 737213, '01-09 01:54'),\n",
       " ('강지호', '최하은', 1315401, '01-10 15:50'),\n",
       " ('김태윤', '정하늘', 715035, '01-14 16:50'),\n",
       " ('신소율', '신민지', 4804146, '01-20 01:54'),\n",
       " ('최하은', '최다은', 2053861, '01-11 05:33'),\n",
       " ('서지우', '민서연', 4402298, '01-29 14:22'),\n",
       " ('이하린', '강지호', 2958747, '01-25 03:10'),\n",
       " ('정민준', '이하린', 2867909, '01-20 06:26'),\n",
       " ('서지우', '장하준', 987271, '01-27 05:46'),\n",
       " ('한민준', '오유진', 1207977, '01-05 19:42'),\n",
       " ('박서준', '정하늘', 1708969, '01-02 20:34'),\n",
       " ('안현우', '최예은', 562934, '01-13 22:02'),\n",
       " ('신민지', '김태윤', 1526930, '01-26 20:09'),\n",
       " ('강지호', '안현우', 590758, '01-26 21:56'),\n",
       " ('송지후', '박서준', 2397017, '01-02 17:16'),\n",
       " ('안현우', '서민재', 4668372, '01-15 10:47'),\n",
       " ('윤지원', '윤지우', 637687, '01-11 04:53'),\n",
       " ('홍지은', '장하준', 3930569, '01-06 02:35'),\n",
       " ('정민준', '이주원', 4151047, '01-28 04:55'),\n",
       " ('김태윤', '홍지은', 2858307, '01-21 03:45'),\n",
       " ('홍지은', '민서연', 1021747, '01-09 11:49'),\n",
       " ('김태윤', '권현준', 4785875, '01-20 18:17'),\n",
       " ('배수아', '서민재', 310780, '01-07 20:51'),\n",
       " ('박서준', '이주원', 3883749, '01-07 20:02'),\n",
       " ('박서준', '이하린', 4877795, '01-21 23:11'),\n",
       " ('권현준', '송지후', 1719553, '01-11 17:27'),\n",
       " ('홍지은', '서민재', 42269, '01-14 00:59'),\n",
       " ('최하은', '김다은', 2784905, '01-15 13:25'),\n",
       " ('홍지호', '서민재', 1422738, '01-09 19:12'),\n",
       " ('오유진', '장하준', 1251804, '01-20 02:28'),\n",
       " ('윤지원', '신민지', 1449513, '01-20 16:04'),\n",
       " ('윤지우', '홍지호', 1140150, '01-17 00:31'),\n",
       " ('배수아', '신도윤', 3654534, '01-04 21:11'),\n",
       " ('신민지', '한지호', 3257669, '01-27 01:47'),\n",
       " ('민서연', '권현준', 1299629, '01-31 02:47'),\n",
       " ('서지우', '정하늘', 3333865, '01-21 22:17'),\n",
       " ('장하준', '박서준', 3378125, '01-07 19:42'),\n",
       " ('홍지은', '이하린', 2007246, '01-23 13:13'),\n",
       " ('최하은', '최예은', 2341474, '01-28 20:25'),\n",
       " ('박서준', '김다은', 2466353, '01-08 13:45'),\n",
       " ('신소율', '박서준', 3199889, '01-14 23:10'),\n",
       " ('신도윤', '한민준', 4540641, '01-06 14:05'),\n",
       " ('최예은', '홍수아', 4047155, '01-01 09:53'),\n",
       " ('김다은', '송지후', 2247976, '01-22 12:56'),\n",
       " ('정민준', '오유진', 816208, '01-09 14:33'),\n",
       " ('홍지은', '박서준', 4059320, '01-03 10:20'),\n",
       " ('서지우', '한지호', 2014323, '01-09 12:10'),\n",
       " ('한민준', '최하은', 3926261, '01-05 11:17'),\n",
       " ('신민지', '김다은', 4791108, '01-19 17:56'),\n",
       " ('정민준', '윤지원', 3735287, '01-20 02:17'),\n",
       " ('김다은', '안현우', 3332173, '01-23 12:52'),\n",
       " ('한지호', '홍수아', 335342, '01-03 20:51'),\n",
       " ('서민재', '서지우', 973025, '01-11 05:09'),\n",
       " ('홍지은', '장하준', 62169, '01-21 07:15'),\n",
       " ('최예은', '한지호', 183652, '01-06 00:49'),\n",
       " ('최다은', '배수아', 572014, '01-19 10:29'),\n",
       " ('신도윤', '장하준', 3280487, '01-10 09:50'),\n",
       " ('서민재', '권현준', 101803, '01-21 23:41'),\n",
       " ('서지우', '최다은', 356998, '01-08 01:35'),\n",
       " ('한지호', '윤지원', 2336814, '01-06 05:45'),\n",
       " ('이주원', '박서준', 2165674, '01-21 19:31'),\n",
       " ('신소율', '송지후', 2585243, '01-05 00:08'),\n",
       " ('홍지호', '김다은', 1411226, '01-13 00:29'),\n",
       " ('송지후', '김태윤', 356872, '01-07 03:52'),\n",
       " ('민서연', '박서준', 2613997, '01-13 07:43'),\n",
       " ('신소율', '서지우', 2357388, '01-14 20:15'),\n",
       " ('한지호', '윤지우', 713581, '01-09 01:07'),\n",
       " ('권현준', '배수아', 1602928, '01-28 15:46'),\n",
       " ('홍지은', '윤지원', 2305095, '01-18 15:33'),\n",
       " ('신민지', '홍지호', 2314532, '01-21 20:45'),\n",
       " ('정민준', '신소율', 4911457, '01-21 20:29'),\n",
       " ('안현우', '윤지우', 3519624, '01-07 10:30'),\n",
       " ('권현준', '배수아', 2776023, '01-02 09:41'),\n",
       " ('송지후', '김태윤', 4665718, '01-10 05:24'),\n",
       " ('최예은', '강지호', 2674752, '01-03 23:39'),\n",
       " ('홍수아', '오유진', 4152460, '01-19 19:43'),\n",
       " ('김태윤', '정하늘', 2601739, '01-28 21:58'),\n",
       " ('한지호', '박서준', 721886, '01-13 15:51'),\n",
       " ('장하준', '서민재', 4131609, '01-08 10:36')]"
      ]
     },
     "execution_count": 77,
     "metadata": {},
     "output_type": "execute_result"
    }
   ],
   "source": [
    "transactions"
   ]
  },
  {
   "cell_type": "markdown",
   "id": "a9888d94",
   "metadata": {},
   "source": [
    "### 전체 그래프 그리기"
   ]
  },
  {
   "cell_type": "code",
   "execution_count": 78,
   "id": "4a616579",
   "metadata": {},
   "outputs": [],
   "source": [
    "# 전체 그래프 그리기\n",
    "net = Network(height='800px', width='100%', directed=True)\n",
    "\n",
    "for sender, receiver, amount, time in transactions:\n",
    "    net.add_node(sender, label=sender)\n",
    "    net.add_node(receiver, label=receiver)\n",
    "    net.add_edge(sender, receiver, title=f\"{amount}원\\n{time}\", value=amount)\n",
    "\n",
    "net.save_graph('full_graph2.html')"
   ]
  },
  {
   "cell_type": "code",
   "execution_count": null,
   "id": "df61f089",
   "metadata": {},
   "outputs": [
    {
     "data": {
      "text/plain": [
       "'graph.html'"
      ]
     },
     "execution_count": 60,
     "metadata": {},
     "output_type": "execute_result"
    }
   ],
   "source": [
    "# 부분 그래프 그리기\n",
    "G = nx.DiGraph()\n",
    "for sender, receiver, amount, time in transactions:\n",
    "    G.add_edge(sender, receiver, amount=amount, time=time)\n",
    "\n",
    "# BFS (너비 우선 탐색)\n",
    "def find_edges(G, start_node, max_depth):\n",
    "    visited = set()\n",
    "    visited.add(start_node) # 시작 노드 방문 추가\n",
    "    queue = deque()\n",
    "    queue.append((start_node, 0))\n",
    "    result_edges = set()\n",
    "\n",
    "    while queue:\n",
    "        node, depth = queue.popleft()\n",
    "        if depth >= max_depth:\n",
    "            continue\n",
    "        # 출금 (내가 돈을 보낸 사람)\n",
    "        for neighbor in G.successors(node): \n",
    "            result_edges.add((node, neighbor))\n",
    "            if neighbor not in visited:\n",
    "                visited.add(neighbor)\n",
    "                queue.append((neighbor, depth+1))\n",
    "        # 입금 (나에게 돈을 보낸 사람)\n",
    "        for neighbor in G.predecessors(node):\n",
    "            result_edges.add((neighbor, node))\n",
    "            if neighbor not in visited:\n",
    "                visited.add(neighbor)\n",
    "                queue.append((neighbor, depth+1))\n",
    "    return list(result_edges)\n",
    "\n",
    "start_node = '배수아'\n",
    "max_depth = 3\n",
    "sub_edges = find_edges(G, start_node, max_depth)\n",
    "\n",
    "# pyvis 시각화\n",
    "net = Network(height='800px', width='100%', directed=True)\n",
    "added_nodes = set()\n",
    "for sender, receiver in sub_edges:\n",
    "    for node in (sender, receiver):\n",
    "        if node not in added_nodes:\n",
    "            net.add_node(node, lable=node)\n",
    "            added_nodes.add(node)\n",
    "    edge_data = G.get_edge_data(sender, receiver)\n",
    "    if edge_data: # edge_data가 있으면\n",
    "        net.add_edge(sender, receiver, title=f\"{edge_data['amount']}원\\n{edge_data['time']}\", value=edge_data['amount'])\n",
    "    else:\n",
    "        # edge_data가 없을 수도 있으므로 예외 처리\n",
    "        net.add_edge(sender, receiver)\n",
    "\n",
    "# 중심 노드 강조\n",
    "net.get_node(start_node)['color'] = 'red'\n",
    "\n",
    "# 저장\n",
    "output_path = 'graph.html'\n",
    "net.save_graph(output_path)\n",
    "output_path"
   ]
  },
  {
   "cell_type": "markdown",
   "id": "c1790300",
   "metadata": {},
   "source": [
    "### 커뮤니티 디텍션"
   ]
  },
  {
   "cell_type": "code",
   "execution_count": 64,
   "id": "4fa784f8",
   "metadata": {},
   "outputs": [
    {
     "data": {
      "text/plain": [
       "{'윤지우': 0,\n",
       " '김다은': 0,\n",
       " '오유진': 3,\n",
       " '배수아': 3,\n",
       " '신민지': 2,\n",
       " '신소율': 5,\n",
       " '이주원': 1,\n",
       " '홍수아': 1,\n",
       " '정민준': 1,\n",
       " '신도윤': 0,\n",
       " '박서준': 0,\n",
       " '최하은': 5,\n",
       " '한지호': 5,\n",
       " '권현준': 5,\n",
       " '민서연': 5,\n",
       " '강지호': 0,\n",
       " '안현우': 1,\n",
       " '정하늘': 2,\n",
       " '서지우': 2,\n",
       " '서민재': 3,\n",
       " '윤지원': 3,\n",
       " '홍지은': 3,\n",
       " '최다은': 2,\n",
       " '최예은': 4,\n",
       " '장하준': 4,\n",
       " '송지후': 4,\n",
       " '홍지호': 0,\n",
       " '한민준': 3}"
      ]
     },
     "execution_count": 64,
     "metadata": {},
     "output_type": "execute_result"
    }
   ],
   "source": [
    "# Louvain, Leidan같은 커뮤니티 디텍션 알고리즘들은\n",
    "# 방향성 없는 그래프를 기본으로 가정\n",
    "G_undirected = G.to_undirected()\n",
    "\n",
    "# 커뮤니티 검출\n",
    "partition = community.best_partition(G_undirected)\n",
    "\n",
    "# 결과\n",
    "partition"
   ]
  },
  {
   "cell_type": "markdown",
   "id": "79e3a77c",
   "metadata": {},
   "source": [
    "### 시각화에 커뮤니티 반영"
   ]
  },
  {
   "cell_type": "code",
   "execution_count": 68,
   "id": "028912d0",
   "metadata": {},
   "outputs": [],
   "source": [
    "from pyvis.network import Network\n",
    "\n",
    "color_list = ['red', 'blue', 'green', 'purple', 'pink', 'brown', 'cyan']\n",
    "\n",
    "net = Network(height='800px', width='100%', directed=True)\n",
    "\n",
    "for node in G.nodes():\n",
    "    comm_id = partition.get(node, 0) # 커뮤니티 id 추출\n",
    "    color = color_list[comm_id % len(color_list)]\n",
    "    net.add_node(node, label=node, color=color)\n",
    "\n",
    "for sender, receiver in G.edges():\n",
    "    net.add_edge(sender, receiver)\n",
    "\n",
    "net.save_graph('community.html')"
   ]
  },
  {
   "cell_type": "code",
   "execution_count": 69,
   "id": "def5a0ac",
   "metadata": {},
   "outputs": [
    {
     "ename": "AssertionError",
     "evalue": "non existent node '오유진'",
     "output_type": "error",
     "traceback": [
      "\u001b[1;31m---------------------------------------------------------------------------\u001b[0m",
      "\u001b[1;31mAssertionError\u001b[0m                            Traceback (most recent call last)",
      "Cell \u001b[1;32mIn[69], line 15\u001b[0m\n\u001b[0;32m     12\u001b[0m     net\u001b[38;5;241m.\u001b[39madd_node(node, label\u001b[38;5;241m=\u001b[39mnode, color\u001b[38;5;241m=\u001b[39mcolor)\n\u001b[0;32m     14\u001b[0m \u001b[38;5;28;01mfor\u001b[39;00m sender, receiver \u001b[38;5;129;01min\u001b[39;00m G\u001b[38;5;241m.\u001b[39medges():\n\u001b[1;32m---> 15\u001b[0m     net\u001b[38;5;241m.\u001b[39madd_edge(sender, receiver)\n\u001b[0;32m     17\u001b[0m net\u001b[38;5;241m.\u001b[39msave_graph(\u001b[38;5;124m'\u001b[39m\u001b[38;5;124mcommunity0.html\u001b[39m\u001b[38;5;124m'\u001b[39m)\n",
      "File \u001b[1;32mc:\\Users\\yh\\anaconda3\\Lib\\site-packages\\pyvis\\network.py:369\u001b[0m, in \u001b[0;36mNetwork.add_edge\u001b[1;34m(self, source, to, **options)\u001b[0m\n\u001b[0;32m    366\u001b[0m edge_exists \u001b[38;5;241m=\u001b[39m \u001b[38;5;28;01mFalse\u001b[39;00m\n\u001b[0;32m    368\u001b[0m \u001b[38;5;66;03m# verify nodes exists\u001b[39;00m\n\u001b[1;32m--> 369\u001b[0m \u001b[38;5;28;01massert\u001b[39;00m source \u001b[38;5;129;01min\u001b[39;00m \u001b[38;5;28mself\u001b[39m\u001b[38;5;241m.\u001b[39mget_nodes(), \\\n\u001b[0;32m    370\u001b[0m     \u001b[38;5;124m\"\u001b[39m\u001b[38;5;124mnon existent node \u001b[39m\u001b[38;5;124m'\u001b[39m\u001b[38;5;124m\"\u001b[39m \u001b[38;5;241m+\u001b[39m \u001b[38;5;28mstr\u001b[39m(source) \u001b[38;5;241m+\u001b[39m \u001b[38;5;124m\"\u001b[39m\u001b[38;5;124m'\u001b[39m\u001b[38;5;124m\"\u001b[39m\n\u001b[0;32m    372\u001b[0m \u001b[38;5;28;01massert\u001b[39;00m to \u001b[38;5;129;01min\u001b[39;00m \u001b[38;5;28mself\u001b[39m\u001b[38;5;241m.\u001b[39mget_nodes(), \\\n\u001b[0;32m    373\u001b[0m     \u001b[38;5;124m\"\u001b[39m\u001b[38;5;124mnon existent node \u001b[39m\u001b[38;5;124m'\u001b[39m\u001b[38;5;124m\"\u001b[39m \u001b[38;5;241m+\u001b[39m \u001b[38;5;28mstr\u001b[39m(to) \u001b[38;5;241m+\u001b[39m \u001b[38;5;124m\"\u001b[39m\u001b[38;5;124m'\u001b[39m\u001b[38;5;124m\"\u001b[39m\n\u001b[0;32m    375\u001b[0m \u001b[38;5;66;03m# we only check existing edge for undirected graphs\u001b[39;00m\n",
      "\u001b[1;31mAssertionError\u001b[0m: non existent node '오유진'"
     ]
    }
   ],
   "source": [
    "from pyvis.network import Network\n",
    "\n",
    "color_list = ['red', 'blue', 'green', 'purple', 'pink', 'brown', 'cyan']\n",
    "\n",
    "net = Network(height='800px', width='100%', directed=True)\n",
    "\n",
    "for node in G.nodes():\n",
    "    comm_id = partition.get(node, 0) # 커뮤니티 id 추출\n",
    "    if comm_id != 0:\n",
    "        continue\n",
    "    color = color_list[comm_id % len(color_list)]\n",
    "    net.add_node(node, label=node, color=color)\n",
    "\n",
    "for sender, receiver in G.edges():\n",
    "    net.add_edge(sender, receiver)\n",
    "\n",
    "net.save_graph('community0.html')"
   ]
  }
 ],
 "metadata": {
  "kernelspec": {
   "display_name": "base",
   "language": "python",
   "name": "python3"
  },
  "language_info": {
   "codemirror_mode": {
    "name": "ipython",
    "version": 3
   },
   "file_extension": ".py",
   "mimetype": "text/x-python",
   "name": "python",
   "nbconvert_exporter": "python",
   "pygments_lexer": "ipython3",
   "version": "3.12.3"
  }
 },
 "nbformat": 4,
 "nbformat_minor": 5
}

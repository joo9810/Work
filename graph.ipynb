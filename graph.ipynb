{
 "cells": [
  {
   "cell_type": "code",
   "execution_count": 63,
   "id": "9de767db",
   "metadata": {},
   "outputs": [],
   "source": [
    "import random\n",
    "from datetime import datetime, timedelta\n",
    "import networkx as nx\n",
    "from pyvis.network import Network\n",
    "from collections import deque\n",
    "import community"
   ]
  },
  {
   "cell_type": "markdown",
   "id": "cf7a431b",
   "metadata": {},
   "source": [
    "### 예시 데이터 만들기"
   ]
  },
  {
   "cell_type": "code",
   "execution_count": 88,
   "id": "296a81a6",
   "metadata": {},
   "outputs": [],
   "source": [
    "transactions = []\n",
    "names = [\n",
    "    '신소율', '홍수아', '홍지호', '신민지', '신도윤', '한민준', '안현우', '최하은', '권현준', '홍지은',\n",
    "    '윤지원', '김태윤', '이주원', '박서준', '최예은', '강지호', '배수아', '정하늘', '오유진', '서민재',\n",
    "    '장하준', '민서연', '김다은', '송지후', '이하린', '윤지우', '한지호', '최다은', '정민준', '서지우'\n",
    "]\n",
    "\n",
    "start_time = datetime(2024, 1, 1, 9, 0, 0)\n",
    "\n",
    "for _ in range(50):\n",
    "    sender = random.choice(names)\n",
    "    receiver = random.choice(names)\n",
    "\n",
    "    # 출금인과 송금인이 같으면 재선택\n",
    "    while sender == receiver:\n",
    "        receiver = random.choice(names)\n",
    "    \n",
    "    amount = random.randint(10000, 5000000)\n",
    "    time_delta = timedelta(minutes=random.randint(0, 60*24*30))\n",
    "    transaction_time = (start_time + time_delta).strftime('%m-%d %H:%M')\n",
    "\n",
    "    transactions.append((sender, receiver, amount, transaction_time))"
   ]
  },
  {
   "cell_type": "code",
   "execution_count": 89,
   "id": "ed7dec07",
   "metadata": {},
   "outputs": [
    {
     "data": {
      "text/plain": [
       "[('권현준', '안현우', 82528, '01-11 19:51'),\n",
       " ('김다은', '배수아', 197242, '01-08 02:47'),\n",
       " ('홍지은', '박서준', 4462689, '01-26 10:35'),\n",
       " ('한지호', '민서연', 3830616, '01-30 14:20'),\n",
       " ('홍지호', '안현우', 781259, '01-08 09:28'),\n",
       " ('서지우', '김태윤', 1338553, '01-22 05:18'),\n",
       " ('이주원', '윤지우', 3123589, '01-15 10:45'),\n",
       " ('김다은', '신도윤', 319516, '01-19 22:29'),\n",
       " ('윤지우', '홍수아', 2929597, '01-22 22:27'),\n",
       " ('서민재', '홍수아', 4303194, '01-11 23:48'),\n",
       " ('안현우', '이주원', 1893402, '01-08 12:06'),\n",
       " ('윤지원', '홍수아', 4871681, '01-12 07:22'),\n",
       " ('홍지호', '최예은', 585547, '01-29 01:49'),\n",
       " ('신도윤', '장하준', 4333022, '01-18 02:18'),\n",
       " ('권현준', '오유진', 3318549, '01-21 08:18'),\n",
       " ('홍지은', '김다은', 2271280, '01-19 19:32'),\n",
       " ('최다은', '최예은', 554961, '01-06 02:09'),\n",
       " ('최다은', '최하은', 2759632, '01-25 01:09'),\n",
       " ('박서준', '윤지원', 3631210, '01-03 18:34'),\n",
       " ('신민지', '배수아', 1736226, '01-20 00:08'),\n",
       " ('안현우', '신소율', 1909270, '01-29 08:59'),\n",
       " ('박서준', '신소율', 1940992, '01-30 04:13'),\n",
       " ('이하린', '홍수아', 777622, '01-09 02:37'),\n",
       " ('강지호', '홍수아', 3555027, '01-02 00:04'),\n",
       " ('홍수아', '오유진', 2141805, '01-12 02:26'),\n",
       " ('신소율', '이주원', 3921229, '01-15 03:50'),\n",
       " ('홍수아', '정민준', 2090975, '01-18 20:18'),\n",
       " ('정하늘', '한지호', 3178662, '01-18 10:19'),\n",
       " ('민서연', '홍지은', 4305530, '01-31 05:03'),\n",
       " ('김다은', '오유진', 4255365, '01-25 02:10'),\n",
       " ('민서연', '윤지원', 4114487, '01-23 05:55'),\n",
       " ('신민지', '권현준', 4067610, '01-06 19:06'),\n",
       " ('이하린', '한지호', 424800, '01-18 06:40'),\n",
       " ('안현우', '신민지', 334562, '01-05 09:51'),\n",
       " ('신도윤', '오유진', 4550119, '01-19 09:44'),\n",
       " ('김태윤', '홍지호', 3498755, '01-15 10:13'),\n",
       " ('신소율', '최하은', 4064567, '01-18 21:36'),\n",
       " ('신민지', '홍수아', 2247194, '01-26 08:40'),\n",
       " ('강지호', '송지후', 427844, '01-14 15:10'),\n",
       " ('이주원', '한민준', 1204190, '01-13 22:37'),\n",
       " ('최예은', '신민지', 3142713, '01-20 07:52'),\n",
       " ('신민지', '오유진', 4575827, '01-26 07:50'),\n",
       " ('서지우', '민서연', 2838306, '01-11 06:24'),\n",
       " ('윤지원', '윤지우', 4817408, '01-01 14:37'),\n",
       " ('서지우', '민서연', 4343891, '01-04 11:02'),\n",
       " ('최다은', '신민지', 4933326, '01-25 05:49'),\n",
       " ('신소율', '한지호', 2450349, '01-10 02:36'),\n",
       " ('정하늘', '박서준', 2097297, '01-19 16:43'),\n",
       " ('신도윤', '오유진', 4613014, '01-16 11:19'),\n",
       " ('최다은', '윤지원', 2467232, '01-03 01:27')]"
      ]
     },
     "execution_count": 89,
     "metadata": {},
     "output_type": "execute_result"
    }
   ],
   "source": [
    "transactions"
   ]
  },
  {
   "cell_type": "markdown",
   "id": "a9888d94",
   "metadata": {},
   "source": [
    "### 전체 그래프 그리기"
   ]
  },
  {
   "cell_type": "code",
   "execution_count": 90,
   "id": "4a616579",
   "metadata": {},
   "outputs": [],
   "source": [
    "# 전체 그래프 그리기\n",
    "net = Network(height='800px', width='100%', directed=True)\n",
    "\n",
    "for sender, receiver, amount, time in transactions:\n",
    "    net.add_node(sender, label=sender)\n",
    "    net.add_node(receiver, label=receiver)\n",
    "    net.add_edge(sender, receiver, title=f\"{amount}원\\n{time}\", value=amount)\n",
    "\n",
    "net.save_graph('full_graph2.html')"
   ]
  },
  {
   "cell_type": "code",
   "execution_count": 87,
   "id": "df61f089",
   "metadata": {},
   "outputs": [
    {
     "data": {
      "text/plain": [
       "'graph.html'"
      ]
     },
     "execution_count": 87,
     "metadata": {},
     "output_type": "execute_result"
    }
   ],
   "source": [
    "# 부분 그래프 그리기\n",
    "G = nx.DiGraph()\n",
    "for sender, receiver, amount, time in transactions:\n",
    "    G.add_edge(sender, receiver, amount=amount, time=time)\n",
    "\n",
    "# BFS (너비 우선 탐색)\n",
    "def find_edges(G, start_node, max_depth):\n",
    "    visited = set()\n",
    "    visited.add(start_node) # 시작 노드 방문 추가\n",
    "    queue = deque()\n",
    "    queue.append((start_node, 0))\n",
    "    result_edges = set()\n",
    "\n",
    "    while queue:\n",
    "        node, depth = queue.popleft()\n",
    "        if depth >= max_depth:\n",
    "            continue\n",
    "        # 출금 (내가 돈을 보낸 사람)\n",
    "        for neighbor in G.successors(node): \n",
    "            result_edges.add((node, neighbor))\n",
    "            if neighbor not in visited:\n",
    "                visited.add(neighbor)\n",
    "                queue.append((neighbor, depth+1))\n",
    "        # 입금 (나에게 돈을 보낸 사람)\n",
    "        for neighbor in G.predecessors(node):\n",
    "            result_edges.add((neighbor, node))\n",
    "            if neighbor not in visited:\n",
    "                visited.add(neighbor)\n",
    "                queue.append((neighbor, depth+1))\n",
    "    return list(result_edges)\n",
    "\n",
    "start_node = '김태윤'\n",
    "max_depth = 2\n",
    "sub_edges = find_edges(G, start_node, max_depth)\n",
    "\n",
    "# pyvis 시각화\n",
    "net = Network(height='800px', width='100%', directed=True)\n",
    "added_nodes = set()\n",
    "for sender, receiver in sub_edges:\n",
    "    for node in (sender, receiver):\n",
    "        if node not in added_nodes:\n",
    "            net.add_node(node, lable=node)\n",
    "            added_nodes.add(node)\n",
    "    edge_data = G.get_edge_data(sender, receiver)\n",
    "    if edge_data: # edge_data가 있으면\n",
    "        net.add_edge(sender, receiver, title=f\"{edge_data['amount']}원\\n{edge_data['time']}\", value=edge_data['amount'])\n",
    "    else:\n",
    "        # edge_data가 없을 수도 있으므로 예외 처리\n",
    "        net.add_edge(sender, receiver)\n",
    "\n",
    "# 중심 노드 강조\n",
    "net.get_node(start_node)['color'] = 'red'\n",
    "\n",
    "# 저장\n",
    "output_path = 'graph.html'\n",
    "net.save_graph(output_path)\n",
    "output_path"
   ]
  },
  {
   "cell_type": "markdown",
   "id": "c1790300",
   "metadata": {},
   "source": [
    "### 커뮤니티 디텍션"
   ]
  },
  {
   "cell_type": "code",
   "execution_count": 91,
   "id": "4fa784f8",
   "metadata": {},
   "outputs": [
    {
     "data": {
      "text/plain": [
       "{'권현준': 2,\n",
       " '안현우': 3,\n",
       " '김다은': 2,\n",
       " '배수아': 2,\n",
       " '홍지은': 4,\n",
       " '박서준': 4,\n",
       " '한지호': 4,\n",
       " '민서연': 4,\n",
       " '홍지호': 1,\n",
       " '서지우': 1,\n",
       " '김태윤': 1,\n",
       " '이주원': 3,\n",
       " '윤지우': 3,\n",
       " '신도윤': 2,\n",
       " '홍수아': 0,\n",
       " '서민재': 0,\n",
       " '윤지원': 4,\n",
       " '최예은': 2,\n",
       " '장하준': 2,\n",
       " '오유진': 2,\n",
       " '최다은': 2,\n",
       " '최하은': 3,\n",
       " '신민지': 2,\n",
       " '신소율': 3,\n",
       " '이하린': 4,\n",
       " '강지호': 0,\n",
       " '정민준': 0,\n",
       " '정하늘': 4,\n",
       " '송지후': 0,\n",
       " '한민준': 3}"
      ]
     },
     "execution_count": 91,
     "metadata": {},
     "output_type": "execute_result"
    }
   ],
   "source": [
    "# Louvain, Leidan같은 커뮤니티 디텍션 알고리즘들은\n",
    "# 방향성 없는 그래프를 기본으로 가정\n",
    "G = nx.DiGraph()\n",
    "for sender, receiver, amount, time in transactions:\n",
    "    G.add_edge(sender, receiver, amount=amount, time=time)\n",
    "\n",
    "G_undirected = G.to_undirected()\n",
    "\n",
    "# 커뮤니티 검출\n",
    "partition = community.best_partition(G_undirected)\n",
    "\n",
    "# 결과\n",
    "partition"
   ]
  },
  {
   "cell_type": "markdown",
   "id": "79e3a77c",
   "metadata": {},
   "source": [
    "### 시각화에 커뮤니티 반영"
   ]
  },
  {
   "cell_type": "code",
   "execution_count": null,
   "id": "028912d0",
   "metadata": {},
   "outputs": [],
   "source": [
    "color_list = ['red', 'blue', 'green', 'purple', 'pink', 'brown', 'cyan']\n",
    "\n",
    "net = Network(height='800px', width='100%', directed=True)\n",
    "\n",
    "for node in G.nodes():\n",
    "    comm_id = partition.get(node, 0) # 커뮤니티 id 추출\n",
    "    color = color_list[comm_id % len(color_list)]\n",
    "    net.add_node(node, label=node, color=color)\n",
    "\n",
    "for sender, receiver in G.edges():\n",
    "    edge_data = G.get_edge_data(sender, receiver)\n",
    "    net.add_edge(sender, receiver, title=f\"{edge_data['amount']}원\\n{edge_data['time']}\", value=edge_data['amount'])\n",
    "\n",
    "net.save_graph('community2.html')"
   ]
  },
  {
   "cell_type": "markdown",
   "id": "c46e15e4",
   "metadata": {},
   "source": [
    "### 특정 커뮤니티만 시각화"
   ]
  },
  {
   "cell_type": "code",
   "execution_count": 99,
   "id": "40feab2d",
   "metadata": {},
   "outputs": [],
   "source": [
    "comm_number = 0\n",
    "selected_community = []\n",
    "\n",
    "color_list = ['red', 'blue', 'green', 'purple', 'pink', 'brown', 'cyan']\n",
    "\n",
    "for node, comm_id in partition.items():\n",
    "    if comm_id == comm_number:\n",
    "        selected_community.append(node)\n",
    "\n",
    "net = Network(height='800px', width='100%', directed=True)\n",
    "\n",
    "# 노드 먼저 추가\n",
    "for node in selected_community:\n",
    "    net.add_node(node, label=node, color=color_list[comm_number % len(color_list)])\n",
    "\n",
    "for sender, receiver in G.edges():\n",
    "    if (sender in selected_community) and (receiver in selected_community):\n",
    "        edge_data = G.get_edge_data(sender, receiver)\n",
    "        net.add_edge(sender, receiver, title=f\"{edge_data['amount']}원\\n{edge_data['time']}\", value=edge_data['amount'])\n",
    "\n",
    "net.save_graph('selected_community.html')\n"
   ]
  }
 ],
 "metadata": {
  "kernelspec": {
   "display_name": "base",
   "language": "python",
   "name": "python3"
  },
  "language_info": {
   "codemirror_mode": {
    "name": "ipython",
    "version": 3
   },
   "file_extension": ".py",
   "mimetype": "text/x-python",
   "name": "python",
   "nbconvert_exporter": "python",
   "pygments_lexer": "ipython3",
   "version": "3.12.3"
  }
 },
 "nbformat": 4,
 "nbformat_minor": 5
}
